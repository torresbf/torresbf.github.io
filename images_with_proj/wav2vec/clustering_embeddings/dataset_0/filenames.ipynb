{
 "cells": [
  {
   "cell_type": "code",
   "execution_count": 73,
   "metadata": {},
   "outputs": [],
   "source": [
    "import glob\n",
    "import os\n",
    "import numpy as np\n",
    "import shutil\n"
   ]
  },
  {
   "cell_type": "code",
   "execution_count": null,
   "metadata": {},
   "outputs": [],
   "source": [
    "\n",
    "dfs_ = []\n",
    "csv = \"base_test_proj\"\n",
    "name = 'proj'\n",
    "for exp in exps_list:\n",
    "\n",
    "    imgdir = '/home/bernardo/projects/ssl_sing_id/logs_eval/{exp}/test/images/clustering_embeddings'\n",
    "    glob.glob(f'{imgdir}*loader_{i}_')\n",
    "    if isinstance(version, (list, tuple)):\n",
    "        dfs = []\n",
    "        for i, v in enumerate(version):\n",
    "            try:\n",
    "                dfs.append(pd.read_csv(f'/home/bernardo/projects/ssl_sing_id/logs_eval/{exp}/version_{v}/{csv}.csv', index_col='epoch'))\n",
    "            except:\n",
    "                print(f'Could not find file logs_eval/{exp}/version_{v}/{csv}.csv')\n",
    "\n",
    "        \n",
    "    elif isinstance(version, int):\n",
    "        dfs = [pd.read_csv(f'/home/bernardo/projects/ssl_sing_id/logs_eval/{exp}/version_{version}/{csv}.csv', index_col='epoch')]\n",
    "\n",
    "    try:\n",
    "        df = pd.concat(dfs)\n",
    "        df.sort_index(inplace=True)\n",
    "        old_idx = df.index.to_frame()\n",
    "        old_idx.insert(0, 'exp', exp)\n",
    "        df.index = pd.MultiIndex.from_frame(old_idx)\n",
    "        dfs_.append(df)\n",
    "    except:\n",
    "        pass\n",
    "    print(exp)\n",
    "    \n",
    "\n",
    "df = pd.concat(dfs_)\n",
    "eer, order_mean, order_median, loss, knn= analyse_df(df,name=name)"
   ]
  },
  {
   "cell_type": "code",
   "execution_count": 7,
   "metadata": {},
   "outputs": [],
   "source": [
    "exp = 'exp_contrastive'\n",
    "imgdir = f'/home/bernardo/projects/ssl_sing_id/logs_eval/{exp}/clustering_embeddings'"
   ]
  },
  {
   "cell_type": "code",
   "execution_count": 9,
   "metadata": {},
   "outputs": [
    {
     "data": {
      "text/plain": [
       "[]"
      ]
     },
     "execution_count": 9,
     "metadata": {},
     "output_type": "execute_result"
    }
   ],
   "source": [
    "glob.glob(f'{imgdir}*loader_0_')"
   ]
  },
  {
   "cell_type": "code",
   "execution_count": 24,
   "metadata": {},
   "outputs": [],
   "source": [
    "i = 0\n"
   ]
  },
  {
   "cell_type": "code",
   "execution_count": 27,
   "metadata": {},
   "outputs": [],
   "source": [
    "filelist.sort()"
   ]
  },
  {
   "cell_type": "code",
   "execution_count": 39,
   "metadata": {},
   "outputs": [],
   "source": [
    "fn = filelist[0]\n",
    "epoch = int(fn.split('ep_')[1].split('_')[0])"
   ]
  },
  {
   "cell_type": "code",
   "execution_count": 42,
   "metadata": {},
   "outputs": [],
   "source": [
    "epochs = [int(fn.split('ep_')[1].split('_')[0]) for fn in filelist]"
   ]
  },
  {
   "cell_type": "code",
   "execution_count": 44,
   "metadata": {},
   "outputs": [
    {
     "data": {
      "text/plain": [
       "array([ 0,  9, 10,  1,  2,  3,  4,  5,  6,  7,  8])"
      ]
     },
     "execution_count": 44,
     "metadata": {},
     "output_type": "execute_result"
    }
   ],
   "source": [
    "np.argsort(epochs)"
   ]
  },
  {
   "cell_type": "code",
   "execution_count": null,
   "metadata": {},
   "outputs": [],
   "source": []
  },
  {
   "cell_type": "code",
   "execution_count": 106,
   "metadata": {},
   "outputs": [],
   "source": [
    "exps_list = ['exp_contrastive_ecapa',\n",
    "             'exp_contrastive', \n",
    "            'exp_contrastive_same_clip', \n",
    "            'exp_contrastive_reg', \n",
    "            'exp_contrastive_formant_augneg',    \n",
    "            'exp_contrastive_att_neg_sameclip', \n",
    "            'exp_vicreg', \n",
    "            'exp_uniformity', \n",
    "            'exp_contrastive_nopretrained', \n",
    "            'exp_ge2e']\n",
    "for i in [0, 1, 2]:\n",
    "    for exp in exps_list:\n",
    "        filelist = glob.glob(f'logs_eval/{exp}/*/test/images/clustering_embeddings/*loader_{i}_*.png')\n",
    "        epochs = [int(fn.split('ep_')[1].split('_')[0]) for fn in filelist]\n",
    "        filelist = [filelist[j] for j in np.argsort(epochs)]\n",
    "        rel_filelist = [os.path.join(exp, fn.split('images/')[1]) for fn in filelist]\n",
    "        epochs = np.sort(epochs)\n",
    "        \n",
    "        dir = os.path.join('images', f'{exp}/clustering_embeddings/dataset_{i}')\n",
    "        dir = os.path.join('images_report', dir)\n",
    "        os.makedirs(dir, exist_ok=True)\n",
    "        with open(os.path.join(dir, \"list.txt\"), \"w\") as text_file:\n",
    "            for elem in zip(filelist, rel_filelist, epochs):\n",
    "                (fn_g, fn, epoch) = elem\n",
    "                \n",
    "                fn = os.path.join('images', exp, 'clustering_embeddings', f'dataset_{i}', os.path.basename(fn))\n",
    "                shutil.copy(fn_g, os.path.join(dir, os.path.basename(fn)))\n",
    "                formatted = '{' + f'\\\"url\\\": \\\"' + f'{fn}' + \"\\\" , \\\"name\\\": \\\"Epoch_\" + str(epoch) + '\\\", \\\"link\\\":\\\"\\\"}'\n",
    "                text_file.write(formatted)\n",
    "                text_file.write(',')\n",
    "                text_file.write('\\n')\n"
   ]
  },
  {
   "cell_type": "markdown",
   "metadata": {},
   "source": [
    "#hcg-slider-ecapa-vctk\", \"#hcg-slider-ecapa-vocalset\", \n",
    "    \"#hcg-slider-unifonly-vctk\", \"#hcg-slider-unifonly-vocalset\", \n",
    "    \"#hcg-slider-contunsup-vctk\", \"#hcg-slider-contunsup-vocalset\", \n",
    "    \"#hcg-slider-contsup-vctk\", \"#hcg-slider-contsup-vocalset\", \n",
    "    \"#hcg-slider-contnopre-vctk\", \"#hcg-slider-contnopre-vocalset\", \n",
    "    \"#hcg-slider-vicreg-vctk\", \"#hcg-slider-vicreg-vocalset\", \n",
    "    \"#hcg-slider-contreg-vctk\", \"#hcg-slider-contreg-vocalset\", \n",
    "    \"#hcg-slider-contform-vctk\", \"#hcg-slider-contform-vocalset\", \n",
    "    \"#hcg-slider-contattform-vctk\", \"#hcg-slider-contattform-vocalset\"];"
   ]
  },
  {
   "cell_type": "code",
   "execution_count": 79,
   "metadata": {},
   "outputs": [
    {
     "name": "stdout",
     "output_type": "stream",
     "text": [
      "('/home/bernardo/projects/ssl_sing_id/logs_eval/exp_contrastive/version_2/test/images/clustering_embeddings/test_plot_loader_0_embeddings_cluster_ep_0_drawmode_same_group.png', 'exp_contrastive/clustering_embeddings/test_plot_loader_0_embeddings_cluster_ep_0_drawmode_same_group.png', 0)\n",
      "('/home/bernardo/projects/ssl_sing_id/logs_eval/exp_contrastive/version_2/test/images/clustering_embeddings/test_plot_loader_0_embeddings_cluster_ep_49_drawmode_same_group.png', 'exp_contrastive/clustering_embeddings/test_plot_loader_0_embeddings_cluster_ep_49_drawmode_same_group.png', 49)\n",
      "('/home/bernardo/projects/ssl_sing_id/logs_eval/exp_contrastive/version_2/test/images/clustering_embeddings/test_plot_loader_0_embeddings_cluster_ep_99_drawmode_same_group.png', 'exp_contrastive/clustering_embeddings/test_plot_loader_0_embeddings_cluster_ep_99_drawmode_same_group.png', 99)\n",
      "('/home/bernardo/projects/ssl_sing_id/logs_eval/exp_contrastive/version_2/test/images/clustering_embeddings/test_plot_loader_0_embeddings_cluster_ep_149_drawmode_same_group.png', 'exp_contrastive/clustering_embeddings/test_plot_loader_0_embeddings_cluster_ep_149_drawmode_same_group.png', 149)\n",
      "('/home/bernardo/projects/ssl_sing_id/logs_eval/exp_contrastive/version_2/test/images/clustering_embeddings/test_plot_loader_0_embeddings_cluster_ep_199_drawmode_same_group.png', 'exp_contrastive/clustering_embeddings/test_plot_loader_0_embeddings_cluster_ep_199_drawmode_same_group.png', 199)\n",
      "('/home/bernardo/projects/ssl_sing_id/logs_eval/exp_contrastive/version_2/test/images/clustering_embeddings/test_plot_loader_0_embeddings_cluster_ep_249_drawmode_same_group.png', 'exp_contrastive/clustering_embeddings/test_plot_loader_0_embeddings_cluster_ep_249_drawmode_same_group.png', 249)\n",
      "('/home/bernardo/projects/ssl_sing_id/logs_eval/exp_contrastive/version_2/test/images/clustering_embeddings/test_plot_loader_0_embeddings_cluster_ep_299_drawmode_same_group.png', 'exp_contrastive/clustering_embeddings/test_plot_loader_0_embeddings_cluster_ep_299_drawmode_same_group.png', 299)\n",
      "('/home/bernardo/projects/ssl_sing_id/logs_eval/exp_contrastive/version_2/test/images/clustering_embeddings/test_plot_loader_0_embeddings_cluster_ep_349_drawmode_same_group.png', 'exp_contrastive/clustering_embeddings/test_plot_loader_0_embeddings_cluster_ep_349_drawmode_same_group.png', 349)\n",
      "('/home/bernardo/projects/ssl_sing_id/logs_eval/exp_contrastive/version_2/test/images/clustering_embeddings/test_plot_loader_0_embeddings_cluster_ep_398_drawmode_same_group.png', 'exp_contrastive/clustering_embeddings/test_plot_loader_0_embeddings_cluster_ep_398_drawmode_same_group.png', 398)\n",
      "('/home/bernardo/projects/ssl_sing_id/logs_eval/exp_contrastive/version_2/test/images/clustering_embeddings/test_plot_loader_0_embeddings_cluster_ep_399_drawmode_same_group.png', 'exp_contrastive/clustering_embeddings/test_plot_loader_0_embeddings_cluster_ep_399_drawmode_same_group.png', 399)\n",
      "('/home/bernardo/projects/ssl_sing_id/logs_eval/exp_contrastive/version_2/test/images/clustering_embeddings/test_plot_loader_0_embeddings_cluster_ep_405_drawmode_same_group.png', 'exp_contrastive/clustering_embeddings/test_plot_loader_0_embeddings_cluster_ep_405_drawmode_same_group.png', 405)\n"
     ]
    }
   ],
   "source": [
    "for elemn in zip(filelist, rel_filelist, epochs):\n",
    "    print(elemn)"
   ]
  },
  {
   "cell_type": "code",
   "execution_count": 105,
   "metadata": {},
   "outputs": [
    {
     "data": {
      "text/plain": [
       "'2,/2/2'"
      ]
     },
     "execution_count": 105,
     "metadata": {},
     "output_type": "execute_result"
    }
   ],
   "source": [
    "os.path.join('2,', '2', '2')"
   ]
  },
  {
   "cell_type": "code",
   "execution_count": 51,
   "metadata": {},
   "outputs": [
    {
     "ename": "SyntaxError",
     "evalue": "invalid syntax (3194980635.py, line 1)",
     "output_type": "error",
     "traceback": [
      "\u001b[0;36m  Input \u001b[0;32mIn [51]\u001b[0;36m\u001b[0m\n\u001b[0;31m    formatted = '{\\\"url\\\": \\\"' + fn \"\\\" , \\\"name\\\": \\\"Epoch_\" + str(epoch) + '\\\" \\\"link\\\":\\\"\\\"}'\u001b[0m\n\u001b[0m                                    ^\u001b[0m\n\u001b[0;31mSyntaxError\u001b[0m\u001b[0;31m:\u001b[0m invalid syntax\n"
     ]
    }
   ],
   "source": [
    " + fn \"\\\" , \\\"name\\\": \\\"Epoch_\" + str(epoch) + '\\\" \\\"link\\\":\\\"\\\"}'"
   ]
  },
  {
   "cell_type": "code",
   "execution_count": 70,
   "metadata": {},
   "outputs": [],
   "source": []
  },
  {
   "cell_type": "code",
   "execution_count": 71,
   "metadata": {},
   "outputs": [
    {
     "data": {
      "text/plain": [
       "'{\"url\": \"/home/bernardo/projects/ssl_sing_id/logs_eval/exp_contrastive/version_2/test/images/clustering_embeddings/test_plot_loader_0_embeddings_cluster_ep_0_drawmode_same_group.png\" , \"name\": \"Epoch_0\" \"link\":\"\"}'"
      ]
     },
     "execution_count": 71,
     "metadata": {},
     "output_type": "execute_result"
    }
   ],
   "source": [
    "formatted"
   ]
  },
  {
   "cell_type": "code",
   "execution_count": null,
   "metadata": {},
   "outputs": [],
   "source": []
  }
 ],
 "metadata": {
  "interpreter": {
   "hash": "7b0e847c29ddad4456d9a7577e8e340a9c72774c8e68c030a3464e270f0b352a"
  },
  "kernelspec": {
   "display_name": "Python 3.9.12 ('umss_2')",
   "language": "python",
   "name": "python3"
  },
  "language_info": {
   "codemirror_mode": {
    "name": "ipython",
    "version": 3
   },
   "file_extension": ".py",
   "mimetype": "text/x-python",
   "name": "python",
   "nbconvert_exporter": "python",
   "pygments_lexer": "ipython3",
   "version": "3.9.12"
  },
  "orig_nbformat": 4
 },
 "nbformat": 4,
 "nbformat_minor": 2
}
